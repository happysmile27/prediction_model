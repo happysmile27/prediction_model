{
 "cells": [
  {
   "cell_type": "markdown",
   "metadata": {
    "id": "BHg0HZz-intQ"
   },
   "source": [
    "# Introduction"
   ]
  },
  {
   "cell_type": "markdown",
   "metadata": {
    "id": "V2RQkgAbiqJv"
   },
   "source": [
    "The National Longitudinal Survey of Youth 1997-2011 dataset is one of the most important databases available to social scientists working with US data. \n",
    "\n",
    "It allows scientists to look at the determinants of earnings as well as educational attainment and has incredible relevance for government policy. It can also shed light on politically sensitive issues like how different educational attainment and salaries are for people of different ethnicity, sex, and other factors. When we have a better understanding how these variables affect education and earnings we can also formulate more suitable government policies. \n",
    "\n",
    "<center><img src=https://i.imgur.com/cxBpQ3I.png height=400></center>\n"
   ]
  },
  {
   "cell_type": "markdown",
   "metadata": {
    "id": "YjCPWWUSirY_"
   },
   "source": [
    "### Upgrade Plotly"
   ]
  },
  {
   "cell_type": "code",
   "execution_count": 1,
   "metadata": {
    "id": "v74l3QCGirIX"
   },
   "outputs": [
    {
     "name": "stdout",
     "output_type": "stream",
     "text": [
      "Requirement already up-to-date: plotly in /Users/olhafedyshyn/opt/anaconda3/lib/python3.7/site-packages (4.14.3)\n",
      "Requirement already satisfied, skipping upgrade: retrying>=1.3.3 in /Users/olhafedyshyn/opt/anaconda3/lib/python3.7/site-packages (from plotly) (1.3.3)\n",
      "Requirement already satisfied, skipping upgrade: six in /Users/olhafedyshyn/opt/anaconda3/lib/python3.7/site-packages (from plotly) (1.14.0)\n",
      "Note: you may need to restart the kernel to use updated packages.\n"
     ]
    }
   ],
   "source": [
    "%pip install --upgrade plotly"
   ]
  },
  {
   "cell_type": "markdown",
   "metadata": {
    "id": "br_QkHBMjC1Q"
   },
   "source": [
    "###  Import Statements\n"
   ]
  },
  {
   "cell_type": "code",
   "execution_count": 2,
   "metadata": {
    "id": "gSKZx-kwie_u"
   },
   "outputs": [],
   "source": [
    "import pandas as pd\n",
    "import numpy as np\n",
    "\n",
    "import seaborn as sns\n",
    "import plotly.express as px\n",
    "import matplotlib.pyplot as plt\n",
    "\n",
    "from sklearn.linear_model import LinearRegression\n",
    "from sklearn.model_selection import train_test_split"
   ]
  },
  {
   "cell_type": "markdown",
   "metadata": {
    "id": "9pgsrth_izCn"
   },
   "source": [
    "## Notebook Presentation"
   ]
  },
  {
   "cell_type": "code",
   "execution_count": 3,
   "metadata": {
    "id": "Cgwu-WbBizqY"
   },
   "outputs": [],
   "source": [
    "pd.options.display.float_format = '{:,.2f}'.format"
   ]
  },
  {
   "cell_type": "markdown",
   "metadata": {
    "id": "E5bhysOOjLRr"
   },
   "source": [
    "# Load the Data\n",
    "\n"
   ]
  },
  {
   "cell_type": "code",
   "execution_count": 4,
   "metadata": {
    "id": "6VngeTQwjM-X"
   },
   "outputs": [],
   "source": [
    "df_data = pd.read_csv('NLSY97_subset.csv')"
   ]
  },
  {
   "cell_type": "markdown",
   "metadata": {
    "id": "_ZjIBJ5jjrj0"
   },
   "source": [
    "### Understand the Dataset\n",
    "\n",
    "Have a look at the file entitled `NLSY97_Variable_Names_and_Descriptions.csv`. \n",
    "\n",
    "---------------------------\n",
    "\n",
    "    :Key Variables:  \n",
    "      1. S           Years of schooling (highest grade completed as of 2011)\n",
    "      2. EXP         Total out-of-school work experience (years) as of the 2011 interview.\n",
    "      3. EARNINGS    Current hourly earnings in $ reported at the 2011 interview"
   ]
  },
  {
   "cell_type": "markdown",
   "metadata": {
    "id": "8MkSxkjVnIfW"
   },
   "source": [
    "# Preliminary Data Exploration 🔎\n",
    "\n",
    "**Challenge**\n",
    "\n",
    "* What is the shape of `df_data`? \n",
    "* How many rows and columns does it have?\n",
    "* What are the column names?\n",
    "* Are there any NaN values or duplicates?"
   ]
  },
  {
   "cell_type": "code",
   "execution_count": 5,
   "metadata": {
    "id": "V_cQguBbjwZv"
   },
   "outputs": [
    {
     "data": {
      "text/html": [
       "<div>\n",
       "<style scoped>\n",
       "    .dataframe tbody tr th:only-of-type {\n",
       "        vertical-align: middle;\n",
       "    }\n",
       "\n",
       "    .dataframe tbody tr th {\n",
       "        vertical-align: top;\n",
       "    }\n",
       "\n",
       "    .dataframe thead th {\n",
       "        text-align: right;\n",
       "    }\n",
       "</style>\n",
       "<table border=\"1\" class=\"dataframe\">\n",
       "  <thead>\n",
       "    <tr style=\"text-align: right;\">\n",
       "      <th></th>\n",
       "      <th>ID</th>\n",
       "      <th>EARNINGS</th>\n",
       "      <th>S</th>\n",
       "      <th>EXP</th>\n",
       "      <th>FEMALE</th>\n",
       "      <th>MALE</th>\n",
       "      <th>BYEAR</th>\n",
       "      <th>AGE</th>\n",
       "      <th>AGEMBTH</th>\n",
       "      <th>HHINC97</th>\n",
       "      <th>...</th>\n",
       "      <th>URBAN</th>\n",
       "      <th>REGNE</th>\n",
       "      <th>REGNC</th>\n",
       "      <th>REGW</th>\n",
       "      <th>REGS</th>\n",
       "      <th>MSA11NO</th>\n",
       "      <th>MSA11NCC</th>\n",
       "      <th>MSA11CC</th>\n",
       "      <th>MSA11NK</th>\n",
       "      <th>MSA11NIC</th>\n",
       "    </tr>\n",
       "  </thead>\n",
       "  <tbody>\n",
       "    <tr>\n",
       "      <th>0</th>\n",
       "      <td>4275</td>\n",
       "      <td>18.50</td>\n",
       "      <td>12</td>\n",
       "      <td>9.71</td>\n",
       "      <td>0</td>\n",
       "      <td>1</td>\n",
       "      <td>1984</td>\n",
       "      <td>27</td>\n",
       "      <td>24.00</td>\n",
       "      <td>64,000.00</td>\n",
       "      <td>...</td>\n",
       "      <td>1</td>\n",
       "      <td>0</td>\n",
       "      <td>0</td>\n",
       "      <td>1</td>\n",
       "      <td>0</td>\n",
       "      <td>0</td>\n",
       "      <td>0</td>\n",
       "      <td>1</td>\n",
       "      <td>0</td>\n",
       "      <td>0</td>\n",
       "    </tr>\n",
       "    <tr>\n",
       "      <th>1</th>\n",
       "      <td>4328</td>\n",
       "      <td>19.23</td>\n",
       "      <td>17</td>\n",
       "      <td>5.71</td>\n",
       "      <td>0</td>\n",
       "      <td>1</td>\n",
       "      <td>1982</td>\n",
       "      <td>29</td>\n",
       "      <td>32.00</td>\n",
       "      <td>6,000.00</td>\n",
       "      <td>...</td>\n",
       "      <td>2</td>\n",
       "      <td>0</td>\n",
       "      <td>0</td>\n",
       "      <td>1</td>\n",
       "      <td>0</td>\n",
       "      <td>0</td>\n",
       "      <td>1</td>\n",
       "      <td>0</td>\n",
       "      <td>0</td>\n",
       "      <td>0</td>\n",
       "    </tr>\n",
       "    <tr>\n",
       "      <th>2</th>\n",
       "      <td>8763</td>\n",
       "      <td>39.05</td>\n",
       "      <td>14</td>\n",
       "      <td>9.94</td>\n",
       "      <td>0</td>\n",
       "      <td>1</td>\n",
       "      <td>1981</td>\n",
       "      <td>30</td>\n",
       "      <td>23.00</td>\n",
       "      <td>88,252.00</td>\n",
       "      <td>...</td>\n",
       "      <td>1</td>\n",
       "      <td>0</td>\n",
       "      <td>0</td>\n",
       "      <td>0</td>\n",
       "      <td>1</td>\n",
       "      <td>0</td>\n",
       "      <td>0</td>\n",
       "      <td>1</td>\n",
       "      <td>0</td>\n",
       "      <td>0</td>\n",
       "    </tr>\n",
       "    <tr>\n",
       "      <th>3</th>\n",
       "      <td>8879</td>\n",
       "      <td>16.80</td>\n",
       "      <td>18</td>\n",
       "      <td>1.54</td>\n",
       "      <td>0</td>\n",
       "      <td>1</td>\n",
       "      <td>1983</td>\n",
       "      <td>28</td>\n",
       "      <td>30.00</td>\n",
       "      <td>nan</td>\n",
       "      <td>...</td>\n",
       "      <td>1</td>\n",
       "      <td>0</td>\n",
       "      <td>1</td>\n",
       "      <td>0</td>\n",
       "      <td>0</td>\n",
       "      <td>0</td>\n",
       "      <td>1</td>\n",
       "      <td>0</td>\n",
       "      <td>0</td>\n",
       "      <td>0</td>\n",
       "    </tr>\n",
       "    <tr>\n",
       "      <th>4</th>\n",
       "      <td>1994</td>\n",
       "      <td>36.06</td>\n",
       "      <td>15</td>\n",
       "      <td>2.94</td>\n",
       "      <td>0</td>\n",
       "      <td>1</td>\n",
       "      <td>1984</td>\n",
       "      <td>27</td>\n",
       "      <td>23.00</td>\n",
       "      <td>44,188.00</td>\n",
       "      <td>...</td>\n",
       "      <td>1</td>\n",
       "      <td>0</td>\n",
       "      <td>0</td>\n",
       "      <td>0</td>\n",
       "      <td>1</td>\n",
       "      <td>0</td>\n",
       "      <td>0</td>\n",
       "      <td>1</td>\n",
       "      <td>0</td>\n",
       "      <td>0</td>\n",
       "    </tr>\n",
       "  </tbody>\n",
       "</table>\n",
       "<p>5 rows × 96 columns</p>\n",
       "</div>"
      ],
      "text/plain": [
       "     ID  EARNINGS   S  EXP  FEMALE  MALE  BYEAR  AGE  AGEMBTH   HHINC97  ...  \\\n",
       "0  4275     18.50  12 9.71       0     1   1984   27    24.00 64,000.00  ...   \n",
       "1  4328     19.23  17 5.71       0     1   1982   29    32.00  6,000.00  ...   \n",
       "2  8763     39.05  14 9.94       0     1   1981   30    23.00 88,252.00  ...   \n",
       "3  8879     16.80  18 1.54       0     1   1983   28    30.00       nan  ...   \n",
       "4  1994     36.06  15 2.94       0     1   1984   27    23.00 44,188.00  ...   \n",
       "\n",
       "   URBAN  REGNE  REGNC  REGW  REGS  MSA11NO  MSA11NCC  MSA11CC  MSA11NK  \\\n",
       "0      1      0      0     1     0        0         0        1        0   \n",
       "1      2      0      0     1     0        0         1        0        0   \n",
       "2      1      0      0     0     1        0         0        1        0   \n",
       "3      1      0      1     0     0        0         1        0        0   \n",
       "4      1      0      0     0     1        0         0        1        0   \n",
       "\n",
       "   MSA11NIC  \n",
       "0         0  \n",
       "1         0  \n",
       "2         0  \n",
       "3         0  \n",
       "4         0  \n",
       "\n",
       "[5 rows x 96 columns]"
      ]
     },
     "execution_count": 5,
     "metadata": {},
     "output_type": "execute_result"
    }
   ],
   "source": [
    "df_data.head()"
   ]
  },
  {
   "cell_type": "code",
   "execution_count": 6,
   "metadata": {},
   "outputs": [
    {
     "data": {
      "text/plain": [
       "(2000, 96)"
      ]
     },
     "execution_count": 6,
     "metadata": {},
     "output_type": "execute_result"
    }
   ],
   "source": [
    "df_data.shape"
   ]
  },
  {
   "cell_type": "code",
   "execution_count": 7,
   "metadata": {},
   "outputs": [
    {
     "data": {
      "text/plain": [
       "Index(['ID', 'EARNINGS', 'S', 'EXP', 'FEMALE', 'MALE', 'BYEAR', 'AGE',\n",
       "       'AGEMBTH', 'HHINC97', 'POVRAT97', 'HHBMBF', 'HHBMOF', 'HHOMBF',\n",
       "       'HHBMONLY', 'HHBFONLY', 'HHOTHER', 'MSA97NO', 'MSA97NCC', 'MSA97CC',\n",
       "       'MSA97NK', 'ETHBLACK', 'ETHHISP', 'ETHWHITE', 'EDUCPROF', 'EDUCPHD',\n",
       "       'EDUCMAST', 'EDUCBA', 'EDUCAA', 'EDUCHSD', 'EDUCGED', 'EDUCDO',\n",
       "       'PRMONM', 'PRMONF', 'PRMSTYUN', 'PRMSTYPE', 'PRMSTYAN', 'PRMSTYAE',\n",
       "       'PRFSTYUN', 'PRFSTYPE', 'PRFSTYAN', 'PRFSTYAE', 'SINGLE', 'MARRIED',\n",
       "       'COHABIT', 'OTHSING', 'FAITHN', 'FAITHP', 'FAITHC', 'FAITHJ', 'FAITHO',\n",
       "       'FAITHM', 'ASVABAR', 'ASVABWK', 'ASVABPC', 'ASVABMK', 'ASVABNO',\n",
       "       'ASVABCS', 'ASVABC', 'ASVABC4', 'VERBAL', 'ASVABMV', 'HEIGHT',\n",
       "       'WEIGHT04', 'WEIGHT11', 'SF', 'SM', 'SFR', 'SMR', 'SIBLINGS', 'REG97NE',\n",
       "       'REG97NC', 'REG97S', 'REG97W', 'RS97RURL', 'RS97URBN', 'RS97UNKN',\n",
       "       'JOBS', 'HOURS', 'TENURE', 'CATGOV', 'CATPRI', 'CATNPO', 'CATMIS',\n",
       "       'CATSE', 'COLLBARG', 'URBAN', 'REGNE', 'REGNC', 'REGW', 'REGS',\n",
       "       'MSA11NO', 'MSA11NCC', 'MSA11CC', 'MSA11NK', 'MSA11NIC'],\n",
       "      dtype='object')"
      ]
     },
     "execution_count": 7,
     "metadata": {},
     "output_type": "execute_result"
    }
   ],
   "source": [
    "df_data.columns"
   ]
  },
  {
   "cell_type": "markdown",
   "metadata": {
    "id": "4itxqgP6nQj3"
   },
   "source": [
    "## Data Cleaning - Check for Missing Values and Duplicates\n",
    "\n",
    "Find and remove any duplicate rows."
   ]
  },
  {
   "cell_type": "code",
   "execution_count": 8,
   "metadata": {
    "id": "J3DHEFXWnS2N"
   },
   "outputs": [
    {
     "data": {
      "text/plain": [
       "16"
      ]
     },
     "execution_count": 8,
     "metadata": {},
     "output_type": "execute_result"
    }
   ],
   "source": [
    "df_data.isna().any().sum()"
   ]
  },
  {
   "cell_type": "code",
   "execution_count": 9,
   "metadata": {},
   "outputs": [
    {
     "data": {
      "text/plain": [
       "False"
      ]
     },
     "execution_count": 9,
     "metadata": {},
     "output_type": "execute_result"
    }
   ],
   "source": [
    "df_data[\"EARNINGS\"].isna().any()"
   ]
  },
  {
   "cell_type": "code",
   "execution_count": 10,
   "metadata": {},
   "outputs": [
    {
     "data": {
      "text/plain": [
       "True"
      ]
     },
     "execution_count": 10,
     "metadata": {},
     "output_type": "execute_result"
    }
   ],
   "source": [
    "df_data.duplicated().any()"
   ]
  },
  {
   "cell_type": "code",
   "execution_count": 11,
   "metadata": {},
   "outputs": [
    {
     "data": {
      "text/html": [
       "<div>\n",
       "<style scoped>\n",
       "    .dataframe tbody tr th:only-of-type {\n",
       "        vertical-align: middle;\n",
       "    }\n",
       "\n",
       "    .dataframe tbody tr th {\n",
       "        vertical-align: top;\n",
       "    }\n",
       "\n",
       "    .dataframe thead th {\n",
       "        text-align: right;\n",
       "    }\n",
       "</style>\n",
       "<table border=\"1\" class=\"dataframe\">\n",
       "  <thead>\n",
       "    <tr style=\"text-align: right;\">\n",
       "      <th></th>\n",
       "      <th>ID</th>\n",
       "      <th>EARNINGS</th>\n",
       "      <th>S</th>\n",
       "      <th>EXP</th>\n",
       "      <th>FEMALE</th>\n",
       "      <th>MALE</th>\n",
       "      <th>BYEAR</th>\n",
       "      <th>AGE</th>\n",
       "      <th>AGEMBTH</th>\n",
       "      <th>HHINC97</th>\n",
       "      <th>...</th>\n",
       "      <th>URBAN</th>\n",
       "      <th>REGNE</th>\n",
       "      <th>REGNC</th>\n",
       "      <th>REGW</th>\n",
       "      <th>REGS</th>\n",
       "      <th>MSA11NO</th>\n",
       "      <th>MSA11NCC</th>\n",
       "      <th>MSA11CC</th>\n",
       "      <th>MSA11NK</th>\n",
       "      <th>MSA11NIC</th>\n",
       "    </tr>\n",
       "  </thead>\n",
       "  <tbody>\n",
       "    <tr>\n",
       "      <th>0</th>\n",
       "      <td>4275</td>\n",
       "      <td>18.50</td>\n",
       "      <td>12</td>\n",
       "      <td>9.71</td>\n",
       "      <td>0</td>\n",
       "      <td>1</td>\n",
       "      <td>1984</td>\n",
       "      <td>27</td>\n",
       "      <td>24.00</td>\n",
       "      <td>64,000.00</td>\n",
       "      <td>...</td>\n",
       "      <td>1</td>\n",
       "      <td>0</td>\n",
       "      <td>0</td>\n",
       "      <td>1</td>\n",
       "      <td>0</td>\n",
       "      <td>0</td>\n",
       "      <td>0</td>\n",
       "      <td>1</td>\n",
       "      <td>0</td>\n",
       "      <td>0</td>\n",
       "    </tr>\n",
       "    <tr>\n",
       "      <th>1</th>\n",
       "      <td>4328</td>\n",
       "      <td>19.23</td>\n",
       "      <td>17</td>\n",
       "      <td>5.71</td>\n",
       "      <td>0</td>\n",
       "      <td>1</td>\n",
       "      <td>1982</td>\n",
       "      <td>29</td>\n",
       "      <td>32.00</td>\n",
       "      <td>6,000.00</td>\n",
       "      <td>...</td>\n",
       "      <td>2</td>\n",
       "      <td>0</td>\n",
       "      <td>0</td>\n",
       "      <td>1</td>\n",
       "      <td>0</td>\n",
       "      <td>0</td>\n",
       "      <td>1</td>\n",
       "      <td>0</td>\n",
       "      <td>0</td>\n",
       "      <td>0</td>\n",
       "    </tr>\n",
       "    <tr>\n",
       "      <th>2</th>\n",
       "      <td>8763</td>\n",
       "      <td>39.05</td>\n",
       "      <td>14</td>\n",
       "      <td>9.94</td>\n",
       "      <td>0</td>\n",
       "      <td>1</td>\n",
       "      <td>1981</td>\n",
       "      <td>30</td>\n",
       "      <td>23.00</td>\n",
       "      <td>88,252.00</td>\n",
       "      <td>...</td>\n",
       "      <td>1</td>\n",
       "      <td>0</td>\n",
       "      <td>0</td>\n",
       "      <td>0</td>\n",
       "      <td>1</td>\n",
       "      <td>0</td>\n",
       "      <td>0</td>\n",
       "      <td>1</td>\n",
       "      <td>0</td>\n",
       "      <td>0</td>\n",
       "    </tr>\n",
       "    <tr>\n",
       "      <th>3</th>\n",
       "      <td>8879</td>\n",
       "      <td>16.80</td>\n",
       "      <td>18</td>\n",
       "      <td>1.54</td>\n",
       "      <td>0</td>\n",
       "      <td>1</td>\n",
       "      <td>1983</td>\n",
       "      <td>28</td>\n",
       "      <td>30.00</td>\n",
       "      <td>nan</td>\n",
       "      <td>...</td>\n",
       "      <td>1</td>\n",
       "      <td>0</td>\n",
       "      <td>1</td>\n",
       "      <td>0</td>\n",
       "      <td>0</td>\n",
       "      <td>0</td>\n",
       "      <td>1</td>\n",
       "      <td>0</td>\n",
       "      <td>0</td>\n",
       "      <td>0</td>\n",
       "    </tr>\n",
       "    <tr>\n",
       "      <th>4</th>\n",
       "      <td>1994</td>\n",
       "      <td>36.06</td>\n",
       "      <td>15</td>\n",
       "      <td>2.94</td>\n",
       "      <td>0</td>\n",
       "      <td>1</td>\n",
       "      <td>1984</td>\n",
       "      <td>27</td>\n",
       "      <td>23.00</td>\n",
       "      <td>44,188.00</td>\n",
       "      <td>...</td>\n",
       "      <td>1</td>\n",
       "      <td>0</td>\n",
       "      <td>0</td>\n",
       "      <td>0</td>\n",
       "      <td>1</td>\n",
       "      <td>0</td>\n",
       "      <td>0</td>\n",
       "      <td>1</td>\n",
       "      <td>0</td>\n",
       "      <td>0</td>\n",
       "    </tr>\n",
       "    <tr>\n",
       "      <th>...</th>\n",
       "      <td>...</td>\n",
       "      <td>...</td>\n",
       "      <td>...</td>\n",
       "      <td>...</td>\n",
       "      <td>...</td>\n",
       "      <td>...</td>\n",
       "      <td>...</td>\n",
       "      <td>...</td>\n",
       "      <td>...</td>\n",
       "      <td>...</td>\n",
       "      <td>...</td>\n",
       "      <td>...</td>\n",
       "      <td>...</td>\n",
       "      <td>...</td>\n",
       "      <td>...</td>\n",
       "      <td>...</td>\n",
       "      <td>...</td>\n",
       "      <td>...</td>\n",
       "      <td>...</td>\n",
       "      <td>...</td>\n",
       "      <td>...</td>\n",
       "    </tr>\n",
       "    <tr>\n",
       "      <th>1984</th>\n",
       "      <td>2400</td>\n",
       "      <td>9.00</td>\n",
       "      <td>12</td>\n",
       "      <td>10.83</td>\n",
       "      <td>1</td>\n",
       "      <td>0</td>\n",
       "      <td>1982</td>\n",
       "      <td>29</td>\n",
       "      <td>29.00</td>\n",
       "      <td>73,100.00</td>\n",
       "      <td>...</td>\n",
       "      <td>0</td>\n",
       "      <td>0</td>\n",
       "      <td>0</td>\n",
       "      <td>1</td>\n",
       "      <td>0</td>\n",
       "      <td>0</td>\n",
       "      <td>0</td>\n",
       "      <td>1</td>\n",
       "      <td>0</td>\n",
       "      <td>0</td>\n",
       "    </tr>\n",
       "    <tr>\n",
       "      <th>1989</th>\n",
       "      <td>3018</td>\n",
       "      <td>8.00</td>\n",
       "      <td>12</td>\n",
       "      <td>9.37</td>\n",
       "      <td>1</td>\n",
       "      <td>0</td>\n",
       "      <td>1982</td>\n",
       "      <td>29</td>\n",
       "      <td>23.00</td>\n",
       "      <td>66,300.00</td>\n",
       "      <td>...</td>\n",
       "      <td>1</td>\n",
       "      <td>0</td>\n",
       "      <td>1</td>\n",
       "      <td>0</td>\n",
       "      <td>0</td>\n",
       "      <td>0</td>\n",
       "      <td>1</td>\n",
       "      <td>0</td>\n",
       "      <td>0</td>\n",
       "      <td>0</td>\n",
       "    </tr>\n",
       "    <tr>\n",
       "      <th>1991</th>\n",
       "      <td>4550</td>\n",
       "      <td>8.57</td>\n",
       "      <td>17</td>\n",
       "      <td>6.29</td>\n",
       "      <td>1</td>\n",
       "      <td>0</td>\n",
       "      <td>1984</td>\n",
       "      <td>27</td>\n",
       "      <td>25.00</td>\n",
       "      <td>76,300.00</td>\n",
       "      <td>...</td>\n",
       "      <td>0</td>\n",
       "      <td>0</td>\n",
       "      <td>0</td>\n",
       "      <td>0</td>\n",
       "      <td>1</td>\n",
       "      <td>0</td>\n",
       "      <td>1</td>\n",
       "      <td>0</td>\n",
       "      <td>0</td>\n",
       "      <td>0</td>\n",
       "    </tr>\n",
       "    <tr>\n",
       "      <th>1994</th>\n",
       "      <td>3779</td>\n",
       "      <td>9.33</td>\n",
       "      <td>12</td>\n",
       "      <td>9.12</td>\n",
       "      <td>1</td>\n",
       "      <td>0</td>\n",
       "      <td>1984</td>\n",
       "      <td>27</td>\n",
       "      <td>22.00</td>\n",
       "      <td>nan</td>\n",
       "      <td>...</td>\n",
       "      <td>1</td>\n",
       "      <td>0</td>\n",
       "      <td>0</td>\n",
       "      <td>1</td>\n",
       "      <td>0</td>\n",
       "      <td>0</td>\n",
       "      <td>1</td>\n",
       "      <td>0</td>\n",
       "      <td>0</td>\n",
       "      <td>0</td>\n",
       "    </tr>\n",
       "    <tr>\n",
       "      <th>1995</th>\n",
       "      <td>2456</td>\n",
       "      <td>14.00</td>\n",
       "      <td>8</td>\n",
       "      <td>7.87</td>\n",
       "      <td>1</td>\n",
       "      <td>0</td>\n",
       "      <td>1982</td>\n",
       "      <td>29</td>\n",
       "      <td>19.00</td>\n",
       "      <td>6,000.00</td>\n",
       "      <td>...</td>\n",
       "      <td>1</td>\n",
       "      <td>1</td>\n",
       "      <td>0</td>\n",
       "      <td>0</td>\n",
       "      <td>0</td>\n",
       "      <td>0</td>\n",
       "      <td>1</td>\n",
       "      <td>0</td>\n",
       "      <td>0</td>\n",
       "      <td>0</td>\n",
       "    </tr>\n",
       "  </tbody>\n",
       "</table>\n",
       "<p>1487 rows × 96 columns</p>\n",
       "</div>"
      ],
      "text/plain": [
       "        ID  EARNINGS   S   EXP  FEMALE  MALE  BYEAR  AGE  AGEMBTH   HHINC97  \\\n",
       "0     4275     18.50  12  9.71       0     1   1984   27    24.00 64,000.00   \n",
       "1     4328     19.23  17  5.71       0     1   1982   29    32.00  6,000.00   \n",
       "2     8763     39.05  14  9.94       0     1   1981   30    23.00 88,252.00   \n",
       "3     8879     16.80  18  1.54       0     1   1983   28    30.00       nan   \n",
       "4     1994     36.06  15  2.94       0     1   1984   27    23.00 44,188.00   \n",
       "...    ...       ...  ..   ...     ...   ...    ...  ...      ...       ...   \n",
       "1984  2400      9.00  12 10.83       1     0   1982   29    29.00 73,100.00   \n",
       "1989  3018      8.00  12  9.37       1     0   1982   29    23.00 66,300.00   \n",
       "1991  4550      8.57  17  6.29       1     0   1984   27    25.00 76,300.00   \n",
       "1994  3779      9.33  12  9.12       1     0   1984   27    22.00       nan   \n",
       "1995  2456     14.00   8  7.87       1     0   1982   29    19.00  6,000.00   \n",
       "\n",
       "      ...  URBAN  REGNE  REGNC  REGW  REGS  MSA11NO  MSA11NCC  MSA11CC  \\\n",
       "0     ...      1      0      0     1     0        0         0        1   \n",
       "1     ...      2      0      0     1     0        0         1        0   \n",
       "2     ...      1      0      0     0     1        0         0        1   \n",
       "3     ...      1      0      1     0     0        0         1        0   \n",
       "4     ...      1      0      0     0     1        0         0        1   \n",
       "...   ...    ...    ...    ...   ...   ...      ...       ...      ...   \n",
       "1984  ...      0      0      0     1     0        0         0        1   \n",
       "1989  ...      1      0      1     0     0        0         1        0   \n",
       "1991  ...      0      0      0     0     1        0         1        0   \n",
       "1994  ...      1      0      0     1     0        0         1        0   \n",
       "1995  ...      1      1      0     0     0        0         1        0   \n",
       "\n",
       "      MSA11NK  MSA11NIC  \n",
       "0           0         0  \n",
       "1           0         0  \n",
       "2           0         0  \n",
       "3           0         0  \n",
       "4           0         0  \n",
       "...       ...       ...  \n",
       "1984        0         0  \n",
       "1989        0         0  \n",
       "1991        0         0  \n",
       "1994        0         0  \n",
       "1995        0         0  \n",
       "\n",
       "[1487 rows x 96 columns]"
      ]
     },
     "execution_count": 11,
     "metadata": {},
     "output_type": "execute_result"
    }
   ],
   "source": [
    "df_data.drop_duplicates()"
   ]
  },
  {
   "cell_type": "markdown",
   "metadata": {
    "id": "gGmBBPxZnVKC"
   },
   "source": [
    "## Descriptive Statistics"
   ]
  },
  {
   "cell_type": "code",
   "execution_count": 12,
   "metadata": {
    "id": "I5VP2BMVnVrt"
   },
   "outputs": [
    {
     "data": {
      "text/html": [
       "<div>\n",
       "<style scoped>\n",
       "    .dataframe tbody tr th:only-of-type {\n",
       "        vertical-align: middle;\n",
       "    }\n",
       "\n",
       "    .dataframe tbody tr th {\n",
       "        vertical-align: top;\n",
       "    }\n",
       "\n",
       "    .dataframe thead th {\n",
       "        text-align: right;\n",
       "    }\n",
       "</style>\n",
       "<table border=\"1\" class=\"dataframe\">\n",
       "  <thead>\n",
       "    <tr style=\"text-align: right;\">\n",
       "      <th></th>\n",
       "      <th>ID</th>\n",
       "      <th>EARNINGS</th>\n",
       "      <th>S</th>\n",
       "      <th>EXP</th>\n",
       "      <th>FEMALE</th>\n",
       "      <th>MALE</th>\n",
       "      <th>BYEAR</th>\n",
       "      <th>AGE</th>\n",
       "      <th>AGEMBTH</th>\n",
       "      <th>HHINC97</th>\n",
       "      <th>...</th>\n",
       "      <th>URBAN</th>\n",
       "      <th>REGNE</th>\n",
       "      <th>REGNC</th>\n",
       "      <th>REGW</th>\n",
       "      <th>REGS</th>\n",
       "      <th>MSA11NO</th>\n",
       "      <th>MSA11NCC</th>\n",
       "      <th>MSA11CC</th>\n",
       "      <th>MSA11NK</th>\n",
       "      <th>MSA11NIC</th>\n",
       "    </tr>\n",
       "  </thead>\n",
       "  <tbody>\n",
       "    <tr>\n",
       "      <th>count</th>\n",
       "      <td>2,000.00</td>\n",
       "      <td>2,000.00</td>\n",
       "      <td>2,000.00</td>\n",
       "      <td>2,000.00</td>\n",
       "      <td>2,000.00</td>\n",
       "      <td>2,000.00</td>\n",
       "      <td>2,000.00</td>\n",
       "      <td>2,000.00</td>\n",
       "      <td>1,956.00</td>\n",
       "      <td>1,630.00</td>\n",
       "      <td>...</td>\n",
       "      <td>2,000.00</td>\n",
       "      <td>2,000.00</td>\n",
       "      <td>2,000.00</td>\n",
       "      <td>2,000.00</td>\n",
       "      <td>2,000.00</td>\n",
       "      <td>2,000.00</td>\n",
       "      <td>2,000.00</td>\n",
       "      <td>2,000.00</td>\n",
       "      <td>2,000.00</td>\n",
       "      <td>2,000.00</td>\n",
       "    </tr>\n",
       "    <tr>\n",
       "      <th>mean</th>\n",
       "      <td>3,530.89</td>\n",
       "      <td>18.87</td>\n",
       "      <td>14.58</td>\n",
       "      <td>6.72</td>\n",
       "      <td>0.50</td>\n",
       "      <td>0.50</td>\n",
       "      <td>1,982.05</td>\n",
       "      <td>28.95</td>\n",
       "      <td>26.42</td>\n",
       "      <td>58,143.75</td>\n",
       "      <td>...</td>\n",
       "      <td>0.78</td>\n",
       "      <td>0.15</td>\n",
       "      <td>0.27</td>\n",
       "      <td>0.34</td>\n",
       "      <td>0.23</td>\n",
       "      <td>0.05</td>\n",
       "      <td>0.54</td>\n",
       "      <td>0.41</td>\n",
       "      <td>0.00</td>\n",
       "      <td>0.00</td>\n",
       "    </tr>\n",
       "    <tr>\n",
       "      <th>std</th>\n",
       "      <td>2,023.07</td>\n",
       "      <td>11.95</td>\n",
       "      <td>2.74</td>\n",
       "      <td>2.84</td>\n",
       "      <td>0.50</td>\n",
       "      <td>0.50</td>\n",
       "      <td>1.39</td>\n",
       "      <td>1.39</td>\n",
       "      <td>5.04</td>\n",
       "      <td>42,745.79</td>\n",
       "      <td>...</td>\n",
       "      <td>0.43</td>\n",
       "      <td>0.36</td>\n",
       "      <td>0.44</td>\n",
       "      <td>0.48</td>\n",
       "      <td>0.42</td>\n",
       "      <td>0.21</td>\n",
       "      <td>0.50</td>\n",
       "      <td>0.49</td>\n",
       "      <td>0.06</td>\n",
       "      <td>0.00</td>\n",
       "    </tr>\n",
       "    <tr>\n",
       "      <th>min</th>\n",
       "      <td>1.00</td>\n",
       "      <td>2.00</td>\n",
       "      <td>6.00</td>\n",
       "      <td>0.00</td>\n",
       "      <td>0.00</td>\n",
       "      <td>0.00</td>\n",
       "      <td>1,980.00</td>\n",
       "      <td>27.00</td>\n",
       "      <td>12.00</td>\n",
       "      <td>0.00</td>\n",
       "      <td>...</td>\n",
       "      <td>0.00</td>\n",
       "      <td>0.00</td>\n",
       "      <td>0.00</td>\n",
       "      <td>0.00</td>\n",
       "      <td>0.00</td>\n",
       "      <td>0.00</td>\n",
       "      <td>0.00</td>\n",
       "      <td>0.00</td>\n",
       "      <td>0.00</td>\n",
       "      <td>0.00</td>\n",
       "    </tr>\n",
       "    <tr>\n",
       "      <th>25%</th>\n",
       "      <td>1,825.00</td>\n",
       "      <td>11.54</td>\n",
       "      <td>12.00</td>\n",
       "      <td>4.69</td>\n",
       "      <td>0.00</td>\n",
       "      <td>0.00</td>\n",
       "      <td>1,981.00</td>\n",
       "      <td>28.00</td>\n",
       "      <td>23.00</td>\n",
       "      <td>32,000.00</td>\n",
       "      <td>...</td>\n",
       "      <td>1.00</td>\n",
       "      <td>0.00</td>\n",
       "      <td>0.00</td>\n",
       "      <td>0.00</td>\n",
       "      <td>0.00</td>\n",
       "      <td>0.00</td>\n",
       "      <td>0.00</td>\n",
       "      <td>0.00</td>\n",
       "      <td>0.00</td>\n",
       "      <td>0.00</td>\n",
       "    </tr>\n",
       "    <tr>\n",
       "      <th>50%</th>\n",
       "      <td>3,471.50</td>\n",
       "      <td>15.75</td>\n",
       "      <td>15.00</td>\n",
       "      <td>6.63</td>\n",
       "      <td>0.50</td>\n",
       "      <td>0.50</td>\n",
       "      <td>1,982.00</td>\n",
       "      <td>29.00</td>\n",
       "      <td>26.00</td>\n",
       "      <td>50,502.00</td>\n",
       "      <td>...</td>\n",
       "      <td>1.00</td>\n",
       "      <td>0.00</td>\n",
       "      <td>0.00</td>\n",
       "      <td>0.00</td>\n",
       "      <td>0.00</td>\n",
       "      <td>0.00</td>\n",
       "      <td>1.00</td>\n",
       "      <td>0.00</td>\n",
       "      <td>0.00</td>\n",
       "      <td>0.00</td>\n",
       "    </tr>\n",
       "    <tr>\n",
       "      <th>75%</th>\n",
       "      <td>5,158.25</td>\n",
       "      <td>22.70</td>\n",
       "      <td>16.00</td>\n",
       "      <td>8.70</td>\n",
       "      <td>1.00</td>\n",
       "      <td>1.00</td>\n",
       "      <td>1,983.00</td>\n",
       "      <td>30.00</td>\n",
       "      <td>30.00</td>\n",
       "      <td>72,202.50</td>\n",
       "      <td>...</td>\n",
       "      <td>1.00</td>\n",
       "      <td>0.00</td>\n",
       "      <td>1.00</td>\n",
       "      <td>1.00</td>\n",
       "      <td>0.00</td>\n",
       "      <td>0.00</td>\n",
       "      <td>1.00</td>\n",
       "      <td>1.00</td>\n",
       "      <td>0.00</td>\n",
       "      <td>0.00</td>\n",
       "    </tr>\n",
       "    <tr>\n",
       "      <th>max</th>\n",
       "      <td>8,980.00</td>\n",
       "      <td>132.89</td>\n",
       "      <td>20.00</td>\n",
       "      <td>14.73</td>\n",
       "      <td>1.00</td>\n",
       "      <td>1.00</td>\n",
       "      <td>1,984.00</td>\n",
       "      <td>31.00</td>\n",
       "      <td>45.00</td>\n",
       "      <td>246,474.00</td>\n",
       "      <td>...</td>\n",
       "      <td>2.00</td>\n",
       "      <td>1.00</td>\n",
       "      <td>1.00</td>\n",
       "      <td>1.00</td>\n",
       "      <td>1.00</td>\n",
       "      <td>1.00</td>\n",
       "      <td>1.00</td>\n",
       "      <td>1.00</td>\n",
       "      <td>1.00</td>\n",
       "      <td>0.00</td>\n",
       "    </tr>\n",
       "  </tbody>\n",
       "</table>\n",
       "<p>8 rows × 96 columns</p>\n",
       "</div>"
      ],
      "text/plain": [
       "            ID  EARNINGS        S      EXP   FEMALE     MALE    BYEAR  \\\n",
       "count 2,000.00  2,000.00 2,000.00 2,000.00 2,000.00 2,000.00 2,000.00   \n",
       "mean  3,530.89     18.87    14.58     6.72     0.50     0.50 1,982.05   \n",
       "std   2,023.07     11.95     2.74     2.84     0.50     0.50     1.39   \n",
       "min       1.00      2.00     6.00     0.00     0.00     0.00 1,980.00   \n",
       "25%   1,825.00     11.54    12.00     4.69     0.00     0.00 1,981.00   \n",
       "50%   3,471.50     15.75    15.00     6.63     0.50     0.50 1,982.00   \n",
       "75%   5,158.25     22.70    16.00     8.70     1.00     1.00 1,983.00   \n",
       "max   8,980.00    132.89    20.00    14.73     1.00     1.00 1,984.00   \n",
       "\n",
       "           AGE  AGEMBTH    HHINC97  ...    URBAN    REGNE    REGNC     REGW  \\\n",
       "count 2,000.00 1,956.00   1,630.00  ... 2,000.00 2,000.00 2,000.00 2,000.00   \n",
       "mean     28.95    26.42  58,143.75  ...     0.78     0.15     0.27     0.34   \n",
       "std       1.39     5.04  42,745.79  ...     0.43     0.36     0.44     0.48   \n",
       "min      27.00    12.00       0.00  ...     0.00     0.00     0.00     0.00   \n",
       "25%      28.00    23.00  32,000.00  ...     1.00     0.00     0.00     0.00   \n",
       "50%      29.00    26.00  50,502.00  ...     1.00     0.00     0.00     0.00   \n",
       "75%      30.00    30.00  72,202.50  ...     1.00     0.00     1.00     1.00   \n",
       "max      31.00    45.00 246,474.00  ...     2.00     1.00     1.00     1.00   \n",
       "\n",
       "          REGS  MSA11NO  MSA11NCC  MSA11CC  MSA11NK  MSA11NIC  \n",
       "count 2,000.00 2,000.00  2,000.00 2,000.00 2,000.00  2,000.00  \n",
       "mean      0.23     0.05      0.54     0.41     0.00      0.00  \n",
       "std       0.42     0.21      0.50     0.49     0.06      0.00  \n",
       "min       0.00     0.00      0.00     0.00     0.00      0.00  \n",
       "25%       0.00     0.00      0.00     0.00     0.00      0.00  \n",
       "50%       0.00     0.00      1.00     0.00     0.00      0.00  \n",
       "75%       0.00     0.00      1.00     1.00     0.00      0.00  \n",
       "max       1.00     1.00      1.00     1.00     1.00      0.00  \n",
       "\n",
       "[8 rows x 96 columns]"
      ]
     },
     "execution_count": 12,
     "metadata": {},
     "output_type": "execute_result"
    }
   ],
   "source": [
    "df_data.describe()"
   ]
  },
  {
   "cell_type": "markdown",
   "metadata": {
    "id": "ZO-86NXbnWSH"
   },
   "source": [
    "## Visualise the Features"
   ]
  },
  {
   "cell_type": "code",
   "execution_count": 13,
   "metadata": {},
   "outputs": [],
   "source": [
    "earn = df_data[\"EARNINGS\"].value_counts()"
   ]
  },
  {
   "cell_type": "code",
   "execution_count": 14,
   "metadata": {
    "id": "hFZJjbsKncPM"
   },
   "outputs": [
    {
     "data": {
      "image/png": "[encoded data removed]",
      "text/plain": [
       "<Figure size 432x288 with 1 Axes>"
      ]
     },
     "metadata": {
      "needs_background": "light"
     },
     "output_type": "display_data"
    }
   ],
   "source": [
    "plt.bar(earn.index, earn.values)\n",
    "plt.xlabel(\"earnings in $\")\n",
    "plt.ylabel(\"Count\")\n",
    "plt.show()"
   ]
  },
  {
   "cell_type": "code",
   "execution_count": 15,
   "metadata": {},
   "outputs": [],
   "source": [
    "years = df_data[\"S\"].value_counts()"
   ]
  },
  {
   "cell_type": "code",
   "execution_count": 16,
   "metadata": {},
   "outputs": [
    {
     "data": {
      "image/png": "[encoded data removed]",
      "text/plain": [
       "<Figure size 432x288 with 1 Axes>"
      ]
     },
     "metadata": {
      "needs_background": "light"
     },
     "output_type": "display_data"
    }
   ],
   "source": [
    "plt.bar(years.index, years.values)\n",
    "plt.xlabel(\"Years of schooling\")\n",
    "plt.ylabel(\"Count\")\n",
    "plt.show()"
   ]
  },
  {
   "cell_type": "code",
   "execution_count": 17,
   "metadata": {},
   "outputs": [],
   "source": [
    "exp = df_data[\"EXP\"].value_counts()"
   ]
  },
  {
   "cell_type": "code",
   "execution_count": 18,
   "metadata": {},
   "outputs": [
    {
     "data": {
      "image/png": "[encoded data removed]",
      "text/plain": [
       "<Figure size 432x288 with 1 Axes>"
      ]
     },
     "metadata": {
      "needs_background": "light"
     },
     "output_type": "display_data"
    }
   ],
   "source": [
    "plt.bar(exp.index, exp.values)\n",
    "plt.xlabel(\"Total out-of-school work experience\")\n",
    "plt.ylabel(\"Count\")\n",
    "plt.show()"
   ]
  },
  {
   "cell_type": "markdown",
   "metadata": {
    "id": "9i4zHYG4nhDL"
   },
   "source": [
    "# Split Training & Test Dataset\n",
    "\n",
    "We *can't* use all the entries in our dataset to train our model. Keep 20% of the data for later as a testing dataset (out-of-sample data).  "
   ]
  },
  {
   "cell_type": "code",
   "execution_count": 59,
   "metadata": {
    "id": "M_OfRSyunkA1"
   },
   "outputs": [],
   "source": [
    "target = df_data['EARNINGS']\n",
    "features = df_data.drop('EARNINGS', axis=1)\n",
    "\n",
    "X_train, X_test, y_train, y_test = train_test_split(features, \n",
    "                                                    target, \n",
    "                                                    test_size=0.2, \n",
    "                                                    random_state=10)\n"
   ]
  },
  {
   "cell_type": "code",
   "execution_count": 47,
   "metadata": {},
   "outputs": [
    {
     "data": {
      "text/plain": [
       "0"
      ]
     },
     "execution_count": 47,
     "metadata": {},
     "output_type": "execute_result"
    }
   ],
   "source": [
    "df_data.isna().any().sum()"
   ]
  },
  {
   "cell_type": "code",
   "execution_count": 46,
   "metadata": {},
   "outputs": [],
   "source": [
    "df_data.fillna(0, inplace=True)"
   ]
  },
  {
   "cell_type": "code",
   "execution_count": 34,
   "metadata": {},
   "outputs": [
    {
     "data": {
      "text/plain": [
       "False"
      ]
     },
     "execution_count": 34,
     "metadata": {},
     "output_type": "execute_result"
    }
   ],
   "source": [
    "np.all(np.isfinite(df_data))"
   ]
  },
  {
   "cell_type": "code",
   "execution_count": 32,
   "metadata": {},
   "outputs": [
    {
     "data": {
      "text/plain": [
       "array([[0.000e+00, 4.275e+03, 1.800e+01, ..., 1.000e+00, 0.000e+00,\n",
       "        0.000e+00],\n",
       "       [1.000e+00, 4.328e+03, 1.900e+01, ..., 0.000e+00, 0.000e+00,\n",
       "        0.000e+00],\n",
       "       [2.000e+00, 8.763e+03, 3.900e+01, ..., 1.000e+00, 0.000e+00,\n",
       "        0.000e+00],\n",
       "       ...,\n",
       "       [1.997e+03, 3.561e+03, 3.500e+01, ..., 1.000e+00, 0.000e+00,\n",
       "        0.000e+00],\n",
       "       [1.998e+03, 5.980e+03, 2.500e+01, ..., 0.000e+00, 0.000e+00,\n",
       "        0.000e+00],\n",
       "       [1.999e+03, 6.221e+03, 1.300e+01, ..., 0.000e+00, 0.000e+00,\n",
       "        0.000e+00]])"
      ]
     },
     "execution_count": 32,
     "metadata": {},
     "output_type": "execute_result"
    }
   ],
   "source": [
    "np.nan_to_num(df_data)"
   ]
  },
  {
   "cell_type": "code",
   "execution_count": null,
   "metadata": {},
   "outputs": [],
   "source": []
  },
  {
   "cell_type": "code",
   "execution_count": null,
   "metadata": {},
   "outputs": [],
   "source": []
  },
  {
   "cell_type": "markdown",
   "metadata": {
    "id": "EM99NOH0noFS"
   },
   "source": [
    "# Simple Linear Regression\n",
    "\n",
    "Only use the years of schooling to predict earnings. Use sklearn to run the regression on the training dataset. How high is the r-squared for the regression on the training data? "
   ]
  },
  {
   "cell_type": "code",
   "execution_count": 60,
   "metadata": {
    "id": "J_MViuoNnvHf"
   },
   "outputs": [
    {
     "data": {
      "text/plain": [
       "LinearRegression(copy_X=True, fit_intercept=True, n_jobs=None, normalize=False)"
      ]
     },
     "execution_count": 60,
     "metadata": {},
     "output_type": "execute_result"
    }
   ],
   "source": [
    "regr = LinearRegression()\n",
    "regr.fit(X_train, y_train)"
   ]
  },
  {
   "cell_type": "markdown",
   "metadata": {
    "id": "s2TeWKs7oJSa"
   },
   "source": [
    "### Evaluate the Coefficients of the Model\n",
    "\n",
    "Here we do a sense check on our regression coefficients. The first thing to look for is if the coefficients have the expected sign (positive or negative). \n",
    "\n",
    "Interpret the regression. How many extra dollars can one expect to earn for an additional year of schooling?"
   ]
  },
  {
   "cell_type": "code",
   "execution_count": 61,
   "metadata": {
    "id": "QmhzZAmAoW4t"
   },
   "outputs": [
    {
     "data": {
      "text/plain": [
       "array([-2.50962140e-04, -1.43453293e-04,  1.01582939e+00,  7.15897838e-01,\n",
       "       -4.21242631e-01,  1.36634104e+00, -2.06184002e-01, -2.13534552e-01,\n",
       "       -2.91668120e-02,  5.26614400e-05, -5.64708753e-03,  1.21134035e-01,\n",
       "       -5.02047807e-02,  7.60042003e-01,  2.82059579e+00, -2.72440781e+00,\n",
       "        4.23042333e-01, -8.69904597e-01,  9.81682032e-01,  1.17269741e-01,\n",
       "       -2.30332027e-01, -3.44423265e-01,  7.09558835e-01, -3.64676211e-01,\n",
       "        1.06642947e+01,  5.56721915e+00,  9.03840974e-01, -1.43956196e+00,\n",
       "       -4.48726225e+00, -3.67476062e+00, -5.04424159e+00, -2.48914120e+00,\n",
       "        8.14522743e-03, -9.30507123e-02, -7.24858093e-01, -1.67784215e+00,\n",
       "       -5.56921947e-01, -1.79402661e+00,  1.01755268e+00,  2.10772409e+00,\n",
       "        7.50864030e-01,  1.19117546e+00, -1.90032338e-01,  5.90723078e-01,\n",
       "        1.99270844e-01, -5.97784239e-01,  1.34482352e+00, -6.66378081e-01,\n",
       "       -3.36310219e-01, -2.16358577e-01, -7.51329813e-01,  6.20326602e-01,\n",
       "        1.91285476e+06,  2.48808117e+06,  2.48808222e+06,  1.43730543e+06,\n",
       "        3.15237765e-01, -1.01955784e+00, -8.65307213e+05, -5.13633346e+06,\n",
       "       -1.52454249e+06,  2.61112583e-05,  2.81303212e-01,  5.57457565e-03,\n",
       "       -2.18112998e-02,  4.63384133e-02,  2.27301492e-01,  1.20044459e-01,\n",
       "       -2.22025726e-01, -1.27921150e-01,  1.80137708e+00, -1.05678530e+00,\n",
       "       -4.11225225e-02, -7.02905906e-01, -5.30284114e-01,  5.29796804e-01,\n",
       "        9.15238634e-05, -3.25609142e-01,  7.60897157e-03,  1.43508071e-01,\n",
       "       -3.06320076e-01,  1.57637197e+00, -8.55814494e-01, -4.12705193e-01,\n",
       "        9.10956525e+00,  4.30649635e+00, -9.56337513e-01, -8.15566870e-01,\n",
       "       -6.75013678e-01,  2.13293819e-01,  1.27738210e+00, -1.69768635e+00,\n",
       "       -2.89688553e+00, -2.19570372e+00,  6.78967183e+00,  0.00000000e+00])"
      ]
     },
     "execution_count": 61,
     "metadata": {},
     "output_type": "execute_result"
    }
   ],
   "source": [
    "regr.coef_"
   ]
  },
  {
   "cell_type": "code",
   "execution_count": 62,
   "metadata": {
    "id": "e9hpdAt3oWnq"
   },
   "outputs": [
    {
     "data": {
      "text/html": [
       "<div>\n",
       "<style scoped>\n",
       "    .dataframe tbody tr th:only-of-type {\n",
       "        vertical-align: middle;\n",
       "    }\n",
       "\n",
       "    .dataframe tbody tr th {\n",
       "        vertical-align: top;\n",
       "    }\n",
       "\n",
       "    .dataframe thead th {\n",
       "        text-align: right;\n",
       "    }\n",
       "</style>\n",
       "<table border=\"1\" class=\"dataframe\">\n",
       "  <thead>\n",
       "    <tr style=\"text-align: right;\">\n",
       "      <th></th>\n",
       "      <th>Coefficient</th>\n",
       "    </tr>\n",
       "  </thead>\n",
       "  <tbody>\n",
       "    <tr>\n",
       "      <th>index</th>\n",
       "      <td>-0.00</td>\n",
       "    </tr>\n",
       "    <tr>\n",
       "      <th>ID</th>\n",
       "      <td>-0.00</td>\n",
       "    </tr>\n",
       "    <tr>\n",
       "      <th>S</th>\n",
       "      <td>1.02</td>\n",
       "    </tr>\n",
       "    <tr>\n",
       "      <th>EXP</th>\n",
       "      <td>0.72</td>\n",
       "    </tr>\n",
       "    <tr>\n",
       "      <th>FEMALE</th>\n",
       "      <td>-0.42</td>\n",
       "    </tr>\n",
       "    <tr>\n",
       "      <th>...</th>\n",
       "      <td>...</td>\n",
       "    </tr>\n",
       "    <tr>\n",
       "      <th>MSA11NO</th>\n",
       "      <td>-1.70</td>\n",
       "    </tr>\n",
       "    <tr>\n",
       "      <th>MSA11NCC</th>\n",
       "      <td>-2.90</td>\n",
       "    </tr>\n",
       "    <tr>\n",
       "      <th>MSA11CC</th>\n",
       "      <td>-2.20</td>\n",
       "    </tr>\n",
       "    <tr>\n",
       "      <th>MSA11NK</th>\n",
       "      <td>6.79</td>\n",
       "    </tr>\n",
       "    <tr>\n",
       "      <th>MSA11NIC</th>\n",
       "      <td>0.00</td>\n",
       "    </tr>\n",
       "  </tbody>\n",
       "</table>\n",
       "<p>96 rows × 1 columns</p>\n",
       "</div>"
      ],
      "text/plain": [
       "          Coefficient\n",
       "index           -0.00\n",
       "ID              -0.00\n",
       "S                1.02\n",
       "EXP              0.72\n",
       "FEMALE          -0.42\n",
       "...               ...\n",
       "MSA11NO         -1.70\n",
       "MSA11NCC        -2.90\n",
       "MSA11CC         -2.20\n",
       "MSA11NK          6.79\n",
       "MSA11NIC         0.00\n",
       "\n",
       "[96 rows x 1 columns]"
      ]
     },
     "execution_count": 62,
     "metadata": {},
     "output_type": "execute_result"
    }
   ],
   "source": [
    "regr_coef = pd.DataFrame(data=regr.coef_, index=X_train.columns, columns=['Coefficient'])\n",
    "regr_coef"
   ]
  },
  {
   "cell_type": "markdown",
   "metadata": {
    "id": "WIyMPXXYobx8"
   },
   "source": [
    "### Analyse the Estimated Values & Regression Residuals\n",
    "\n",
    "How good our regression is also depends on the residuals - the difference between the model's predictions ( 𝑦̂ 𝑖 ) and the true values ( 𝑦𝑖 ) inside y_train. Do you see any patterns in the distribution of the residuals?"
   ]
  },
  {
   "cell_type": "code",
   "execution_count": 63,
   "metadata": {
    "id": "khkgscweosP_"
   },
   "outputs": [
    {
     "data": {
      "text/plain": [
       "0.29966949833861967"
      ]
     },
     "execution_count": 63,
     "metadata": {},
     "output_type": "execute_result"
    }
   ],
   "source": [
    "regr.score(X_train,y_train)"
   ]
  },
  {
   "cell_type": "markdown",
   "metadata": {
    "id": "m_diDXSXotm6"
   },
   "source": [
    "You train model accurate for 30%"
   ]
  },
  {
   "cell_type": "code",
   "execution_count": null,
   "metadata": {
    "id": "6DfAEUWNosHd"
   },
   "outputs": [],
   "source": []
  },
  {
   "cell_type": "markdown",
   "metadata": {
    "id": "zNBuJ1iBnvpl"
   },
   "source": [
    "# Multivariable Regression\n",
    "\n",
    "Now use both years of schooling and the years work experience to predict earnings. How high is the r-squared for the regression on the training data? "
   ]
  },
  {
   "cell_type": "code",
   "execution_count": 52,
   "metadata": {
    "id": "Ihq-C4looCSM"
   },
   "outputs": [],
   "source": [
    "target = df_data['EARNINGS']\n",
    "features = df_data[[\"S\", \"EXP\"]]\n",
    "\n",
    "X_train, X_test, y_train, y_test = train_test_split(features, \n",
    "                                                    target, \n",
    "                                                    test_size=0.2, \n",
    "                                                    random_state=10)"
   ]
  },
  {
   "cell_type": "code",
   "execution_count": 53,
   "metadata": {
    "id": "dRhB7Iwboyfq"
   },
   "outputs": [
    {
     "data": {
      "text/plain": [
       "LinearRegression(copy_X=True, fit_intercept=True, n_jobs=None, normalize=False)"
      ]
     },
     "execution_count": 53,
     "metadata": {},
     "output_type": "execute_result"
    }
   ],
   "source": [
    "regr2 = LinearRegression()\n",
    "regr2.fit(X_train, y_train)"
   ]
  },
  {
   "cell_type": "markdown",
   "metadata": {
    "id": "nHDtunM0oyuk"
   },
   "source": [
    "### Evaluate the Coefficients of the Model"
   ]
  },
  {
   "cell_type": "code",
   "execution_count": 54,
   "metadata": {
    "id": "5vasqInIoydB"
   },
   "outputs": [
    {
     "data": {
      "text/plain": [
       "array([1.81207044, 0.95280964])"
      ]
     },
     "execution_count": 54,
     "metadata": {},
     "output_type": "execute_result"
    }
   ],
   "source": [
    "regr2.coef_"
   ]
  },
  {
   "cell_type": "markdown",
   "metadata": {
    "id": "Yv8q90IYou2Q"
   },
   "source": [
    "### Analyse the Estimated Values & Regression Residuals"
   ]
  },
  {
   "cell_type": "code",
   "execution_count": 55,
   "metadata": {
    "id": "8NmXnsxfowkI"
   },
   "outputs": [
    {
     "data": {
      "text/plain": [
       "0.1096283341946741"
      ]
     },
     "execution_count": 55,
     "metadata": {},
     "output_type": "execute_result"
    }
   ],
   "source": [
    "regr2.score(X_train, y_train)"
   ]
  },
  {
   "cell_type": "markdown",
   "metadata": {
    "id": "0ZZ1e0spo5o1"
   },
   "source": [
    "You train model accurate only 11%. The coeficients for years of schooling and the years work experience are higher when you used all data."
   ]
  },
  {
   "cell_type": "markdown",
   "metadata": {
    "id": "YWNeoqPLpjVb"
   },
   "source": [
    "# Use Your Model to Make a Prediction\n",
    "\n",
    "How much can someone with a bachelors degree (12 + 4) years of schooling and 5 years work experience expect to earn in 2011?"
   ]
  },
  {
   "cell_type": "code",
   "execution_count": 68,
   "metadata": {
    "id": "3htX8_SBpvyb"
   },
   "outputs": [
    {
     "name": "stdout",
     "output_type": "stream",
     "text": [
      "After schooling people can earn $1015.8\n"
     ]
    }
   ],
   "source": [
    "premium = regr_coef.loc['S'].values[0] * 1000\n",
    "print(f'After schooling people can earn ${premium:.5}')"
   ]
  },
  {
   "cell_type": "code",
   "execution_count": 69,
   "metadata": {},
   "outputs": [
    {
     "name": "stdout",
     "output_type": "stream",
     "text": [
      "After people have some experience they can earn $715.9\n"
     ]
    }
   ],
   "source": [
    "premium2 = regr_coef.loc['EXP'].values[0] * 1000\n",
    "print(f'After people have some experience they can earn ${premium2:.5}')"
   ]
  }
 ],
 "metadata": {
  "colab": {
   "name": "Determinants of Earnings (start).ipynb",
   "provenance": [],
   "toc_visible": true
  },
  "kernelspec": {
   "display_name": "Python 3",
   "language": "python",
   "name": "python3"
  },
  "language_info": {
   "codemirror_mode": {
    "name": "ipython",
    "version": 3
   },
   "file_extension": ".py",
   "mimetype": "text/x-python",
   "name": "python",
   "nbconvert_exporter": "python",
   "pygments_lexer": "ipython3",
   "version": "3.7.6"
  }
 },
 "nbformat": 4,
 "nbformat_minor": 1
}
